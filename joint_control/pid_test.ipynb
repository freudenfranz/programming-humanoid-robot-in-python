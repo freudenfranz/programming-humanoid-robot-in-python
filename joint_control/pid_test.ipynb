{
 "cells": [
  {
   "cell_type": "markdown",
   "metadata": {},
   "source": [
    "# Testing PID controller\n",
    "\n",
    "This notebook shows how to test and tune PID controller. \n",
    "\n",
    "\n",
    "* The PID controller has to be implemented in [pid.py](./pid.py) first;\n",
    "* Make sure ipywidgets is enabled with command: \n",
    "    ```sh\n",
    "    jupyter nbextension enable --py widgetsnbextension\n",
    "    ```\n",
    "    read more in [ipywidgets wiki](https://github.com/jupyter-widgets/ipywidgets/blob/master/README.md#install)"
   ]
  },
  {
   "cell_type": "code",
   "execution_count": 1,
   "metadata": {},
   "outputs": [],
   "source": [
    "%matplotlib inline\n",
    "%matplotlib notebook\n",
    "from pylab import *\n",
    "from ipywidgets import interact\n",
    "from IPython import display\n",
    "from collections import deque"
   ]
  },
  {
   "cell_type": "code",
   "execution_count": 2,
   "metadata": {},
   "outputs": [],
   "source": [
    "from pid import PIDAgent\n",
    "agent = PIDAgent()"
   ]
  },
  {
   "cell_type": "code",
   "execution_count": 3,
   "metadata": {},
   "outputs": [
    {
     "data": {
      "application/vnd.jupyter.widget-view+json": {
       "model_id": "1f9fb25125d0407389a779a83012c844",
       "version_major": 2,
       "version_minor": 0
      },
      "text/html": [
       "<p>Failed to display Jupyter Widget of type <code>interactive</code>.</p>\n",
       "<p>\n",
       "  If you're reading this message in Jupyter Notebook or JupyterLab, it may mean\n",
       "  that the widgets JavaScript is still loading. If this message persists, it\n",
       "  likely means that the widgets JavaScript library is either not installed or\n",
       "  not enabled. See the <a href=\"https://ipywidgets.readthedocs.io/en/stable/user_install.html\">Jupyter\n",
       "  Widgets Documentation</a> for setup instructions.\n",
       "</p>\n",
       "<p>\n",
       "  If you're reading this message in another notebook frontend (for example, a static\n",
       "  rendering on GitHub or <a href=\"https://nbviewer.jupyter.org/\">NBViewer</a>),\n",
       "  it may mean that your frontend doesn't currently support widgets.\n",
       "</p>\n"
      ],
      "text/plain": [
       "interactive(children=(IntSlider(value=50, description=u'kp'), FloatSlider(value=0.0, description=u'ki', max=1.0, min=-1.0), FloatSlider(value=0.0, description=u'kd', max=1.0, min=-1.0), IntSlider(value=0, description=u'delay', max=5), Output()), _dom_classes=('widget-interact',))"
      ]
     },
     "metadata": {},
     "output_type": "display_data"
    },
    {
     "data": {
      "application/vnd.jupyter.widget-view+json": {
       "model_id": "039eecacfe1a4a11bcb4a117af71f8bf",
       "version_major": 2,
       "version_minor": 0
      },
      "text/html": [
       "<p>Failed to display Jupyter Widget of type <code>interactive</code>.</p>\n",
       "<p>\n",
       "  If you're reading this message in Jupyter Notebook or JupyterLab, it may mean\n",
       "  that the widgets JavaScript is still loading. If this message persists, it\n",
       "  likely means that the widgets JavaScript library is either not installed or\n",
       "  not enabled. See the <a href=\"https://ipywidgets.readthedocs.io/en/stable/user_install.html\">Jupyter\n",
       "  Widgets Documentation</a> for setup instructions.\n",
       "</p>\n",
       "<p>\n",
       "  If you're reading this message in another notebook frontend (for example, a static\n",
       "  rendering on GitHub or <a href=\"https://nbviewer.jupyter.org/\">NBViewer</a>),\n",
       "  it may mean that your frontend doesn't currently support widgets.\n",
       "</p>\n"
      ],
      "text/plain": [
       "interactive(children=(Dropdown(description=u'name', options=('HeadYaw', 'RHipPitch', 'RElbowYaw', 'RShoulderPitch', 'LShoulderPitch', 'LKneePitch', 'RAnkleRoll', 'LShoulderRoll', 'LHipPitch', 'LElbowYaw', 'LAnklePitch', 'RHipYawPitch', 'HeadPitch', 'LElbowRoll', 'RShoulderRoll', 'LAnkleRoll', 'LHipYawPitch', 'RAnklePitch', 'LHipRoll', 'RHipRoll', 'RElbowRoll', 'RKneePitch'), value='HeadYaw'), Output()), _dom_classes=('widget-interact',))"
      ]
     },
     "metadata": {},
     "output_type": "display_data"
    },
    {
     "data": {
      "application/vnd.jupyter.widget-view+json": {
       "model_id": "e068d98533dc4cb48b70717fdb0bc863",
       "version_major": 2,
       "version_minor": 0
      },
      "text/html": [
       "<p>Failed to display Jupyter Widget of type <code>interactive</code>.</p>\n",
       "<p>\n",
       "  If you're reading this message in Jupyter Notebook or JupyterLab, it may mean\n",
       "  that the widgets JavaScript is still loading. If this message persists, it\n",
       "  likely means that the widgets JavaScript library is either not installed or\n",
       "  not enabled. See the <a href=\"https://ipywidgets.readthedocs.io/en/stable/user_install.html\">Jupyter\n",
       "  Widgets Documentation</a> for setup instructions.\n",
       "</p>\n",
       "<p>\n",
       "  If you're reading this message in another notebook frontend (for example, a static\n",
       "  rendering on GitHub or <a href=\"https://nbviewer.jupyter.org/\">NBViewer</a>),\n",
       "  it may mean that your frontend doesn't currently support widgets.\n",
       "</p>\n"
      ],
      "text/plain": [
       "interactive(children=(FloatSlider(value=0.0, description=u'value', max=1.0, min=-1.0), Output()), _dom_classes=('widget-interact',))"
      ]
     },
     "metadata": {},
     "output_type": "display_data"
    }
   ],
   "source": [
    "@interact(kp=(0, 100, 1), ki=(-1, 1, 0.1), kd=(-1, 1, 0.1), delay=(0, 5))\n",
    "def set_pid_parameters(kp, ki, kd, delay=0):\n",
    "    global agent\n",
    "    agent.joint_controller.Kp = kp\n",
    "    agent.joint_controller.Ki = ki\n",
    "    agent.joint_controller.Kd = kd\n",
    "    agent.joint_controller.set_delay(delay)\n",
    "\n",
    "joint_name = 'HeadYaw'\n",
    "sensor = deque(maxlen=100)\n",
    "target = deque(maxlen=100)\n",
    "\n",
    "@interact(name=agent.joint_names)\n",
    "def set_joint_name(name):\n",
    "    global joint_name\n",
    "    if joint_name != name:\n",
    "        joint_name = name\n",
    "        sensor.clear()\n",
    "        target.clear()\n",
    "\n",
    "@interact(value=(-1, 1, 0.1))\n",
    "def set_joint_target(value):\n",
    "    agent.target_joints[joint_name] = value"
   ]
  },
  {
   "cell_type": "code",
   "execution_count": 4,
   "metadata": {},
   "outputs": [
    {
     "data": {
      "application/javascript": [
       "/* Put everything inside the global mpl namespace */\n",
       "window.mpl = {};\n",
       "\n",
       "\n",
       "mpl.get_websocket_type = function() {\n",
       "    if (typeof(WebSocket) !== 'undefined') {\n",
       "        return WebSocket;\n",
       "    } else if (typeof(MozWebSocket) !== 'undefined') {\n",
       "        return MozWebSocket;\n",
       "    } else {\n",
       "        alert('Your browser does not have WebSocket support.' +\n",
       "              'Please try Chrome, Safari or Firefox ≥ 6. ' +\n",
       "              'Firefox 4 and 5 are also supported but you ' +\n",
       "              'have to enable WebSockets in about:config.');\n",
       "    };\n",
       "}\n",
       "\n",
       "mpl.figure = function(figure_id, websocket, ondownload, parent_element) {\n",
       "    this.id = figure_id;\n",
       "\n",
       "    this.ws = websocket;\n",
       "\n",
       "    this.supports_binary = (this.ws.binaryType != undefined);\n",
       "\n",
       "    if (!this.supports_binary) {\n",
       "        var warnings = document.getElementById(\"mpl-warnings\");\n",
       "        if (warnings) {\n",
       "            warnings.style.display = 'block';\n",
       "            warnings.textContent = (\n",
       "                \"This browser does not support binary websocket messages. \" +\n",
       "                    \"Performance may be slow.\");\n",
       "        }\n",
       "    }\n",
       "\n",
       "    this.imageObj = new Image();\n",
       "\n",
       "    this.context = undefined;\n",
       "    this.message = undefined;\n",
       "    this.canvas = undefined;\n",
       "    this.rubberband_canvas = undefined;\n",
       "    this.rubberband_context = undefined;\n",
       "    this.format_dropdown = undefined;\n",
       "\n",
       "    this.image_mode = 'full';\n",
       "\n",
       "    this.root = $('<div/>');\n",
       "    this._root_extra_style(this.root)\n",
       "    this.root.attr('style', 'display: inline-block');\n",
       "\n",
       "    $(parent_element).append(this.root);\n",
       "\n",
       "    this._init_header(this);\n",
       "    this._init_canvas(this);\n",
       "    this._init_toolbar(this);\n",
       "\n",
       "    var fig = this;\n",
       "\n",
       "    this.waiting = false;\n",
       "\n",
       "    this.ws.onopen =  function () {\n",
       "            fig.send_message(\"supports_binary\", {value: fig.supports_binary});\n",
       "            fig.send_message(\"send_image_mode\", {});\n",
       "            if (mpl.ratio != 1) {\n",
       "                fig.send_message(\"set_dpi_ratio\", {'dpi_ratio': mpl.ratio});\n",
       "            }\n",
       "            fig.send_message(\"refresh\", {});\n",
       "        }\n",
       "\n",
       "    this.imageObj.onload = function() {\n",
       "            if (fig.image_mode == 'full') {\n",
       "                // Full images could contain transparency (where diff images\n",
       "                // almost always do), so we need to clear the canvas so that\n",
       "                // there is no ghosting.\n",
       "                fig.context.clearRect(0, 0, fig.canvas.width, fig.canvas.height);\n",
       "            }\n",
       "            fig.context.drawImage(fig.imageObj, 0, 0);\n",
       "        };\n",
       "\n",
       "    this.imageObj.onunload = function() {\n",
       "        fig.ws.close();\n",
       "    }\n",
       "\n",
       "    this.ws.onmessage = this._make_on_message_function(this);\n",
       "\n",
       "    this.ondownload = ondownload;\n",
       "}\n",
       "\n",
       "mpl.figure.prototype._init_header = function() {\n",
       "    var titlebar = $(\n",
       "        '<div class=\"ui-dialog-titlebar ui-widget-header ui-corner-all ' +\n",
       "        'ui-helper-clearfix\"/>');\n",
       "    var titletext = $(\n",
       "        '<div class=\"ui-dialog-title\" style=\"width: 100%; ' +\n",
       "        'text-align: center; padding: 3px;\"/>');\n",
       "    titlebar.append(titletext)\n",
       "    this.root.append(titlebar);\n",
       "    this.header = titletext[0];\n",
       "}\n",
       "\n",
       "\n",
       "\n",
       "mpl.figure.prototype._canvas_extra_style = function(canvas_div) {\n",
       "\n",
       "}\n",
       "\n",
       "\n",
       "mpl.figure.prototype._root_extra_style = function(canvas_div) {\n",
       "\n",
       "}\n",
       "\n",
       "mpl.figure.prototype._init_canvas = function() {\n",
       "    var fig = this;\n",
       "\n",
       "    var canvas_div = $('<div/>');\n",
       "\n",
       "    canvas_div.attr('style', 'position: relative; clear: both; outline: 0');\n",
       "\n",
       "    function canvas_keyboard_event(event) {\n",
       "        return fig.key_event(event, event['data']);\n",
       "    }\n",
       "\n",
       "    canvas_div.keydown('key_press', canvas_keyboard_event);\n",
       "    canvas_div.keyup('key_release', canvas_keyboard_event);\n",
       "    this.canvas_div = canvas_div\n",
       "    this._canvas_extra_style(canvas_div)\n",
       "    this.root.append(canvas_div);\n",
       "\n",
       "    var canvas = $('<canvas/>');\n",
       "    canvas.addClass('mpl-canvas');\n",
       "    canvas.attr('style', \"left: 0; top: 0; z-index: 0; outline: 0\")\n",
       "\n",
       "    this.canvas = canvas[0];\n",
       "    this.context = canvas[0].getContext(\"2d\");\n",
       "\n",
       "    var backingStore = this.context.backingStorePixelRatio ||\n",
       "\tthis.context.webkitBackingStorePixelRatio ||\n",
       "\tthis.context.mozBackingStorePixelRatio ||\n",
       "\tthis.context.msBackingStorePixelRatio ||\n",
       "\tthis.context.oBackingStorePixelRatio ||\n",
       "\tthis.context.backingStorePixelRatio || 1;\n",
       "\n",
       "    mpl.ratio = (window.devicePixelRatio || 1) / backingStore;\n",
       "\n",
       "    var rubberband = $('<canvas/>');\n",
       "    rubberband.attr('style', \"position: absolute; left: 0; top: 0; z-index: 1;\")\n",
       "\n",
       "    var pass_mouse_events = true;\n",
       "\n",
       "    canvas_div.resizable({\n",
       "        start: function(event, ui) {\n",
       "            pass_mouse_events = false;\n",
       "        },\n",
       "        resize: function(event, ui) {\n",
       "            fig.request_resize(ui.size.width, ui.size.height);\n",
       "        },\n",
       "        stop: function(event, ui) {\n",
       "            pass_mouse_events = true;\n",
       "            fig.request_resize(ui.size.width, ui.size.height);\n",
       "        },\n",
       "    });\n",
       "\n",
       "    function mouse_event_fn(event) {\n",
       "        if (pass_mouse_events)\n",
       "            return fig.mouse_event(event, event['data']);\n",
       "    }\n",
       "\n",
       "    rubberband.mousedown('button_press', mouse_event_fn);\n",
       "    rubberband.mouseup('button_release', mouse_event_fn);\n",
       "    // Throttle sequential mouse events to 1 every 20ms.\n",
       "    rubberband.mousemove('motion_notify', mouse_event_fn);\n",
       "\n",
       "    rubberband.mouseenter('figure_enter', mouse_event_fn);\n",
       "    rubberband.mouseleave('figure_leave', mouse_event_fn);\n",
       "\n",
       "    canvas_div.on(\"wheel\", function (event) {\n",
       "        event = event.originalEvent;\n",
       "        event['data'] = 'scroll'\n",
       "        if (event.deltaY < 0) {\n",
       "            event.step = 1;\n",
       "        } else {\n",
       "            event.step = -1;\n",
       "        }\n",
       "        mouse_event_fn(event);\n",
       "    });\n",
       "\n",
       "    canvas_div.append(canvas);\n",
       "    canvas_div.append(rubberband);\n",
       "\n",
       "    this.rubberband = rubberband;\n",
       "    this.rubberband_canvas = rubberband[0];\n",
       "    this.rubberband_context = rubberband[0].getContext(\"2d\");\n",
       "    this.rubberband_context.strokeStyle = \"#000000\";\n",
       "\n",
       "    this._resize_canvas = function(width, height) {\n",
       "        // Keep the size of the canvas, canvas container, and rubber band\n",
       "        // canvas in synch.\n",
       "        canvas_div.css('width', width)\n",
       "        canvas_div.css('height', height)\n",
       "\n",
       "        canvas.attr('width', width * mpl.ratio);\n",
       "        canvas.attr('height', height * mpl.ratio);\n",
       "        canvas.attr('style', 'width: ' + width + 'px; height: ' + height + 'px;');\n",
       "\n",
       "        rubberband.attr('width', width);\n",
       "        rubberband.attr('height', height);\n",
       "    }\n",
       "\n",
       "    // Set the figure to an initial 600x600px, this will subsequently be updated\n",
       "    // upon first draw.\n",
       "    this._resize_canvas(600, 600);\n",
       "\n",
       "    // Disable right mouse context menu.\n",
       "    $(this.rubberband_canvas).bind(\"contextmenu\",function(e){\n",
       "        return false;\n",
       "    });\n",
       "\n",
       "    function set_focus () {\n",
       "        canvas.focus();\n",
       "        canvas_div.focus();\n",
       "    }\n",
       "\n",
       "    window.setTimeout(set_focus, 100);\n",
       "}\n",
       "\n",
       "mpl.figure.prototype._init_toolbar = function() {\n",
       "    var fig = this;\n",
       "\n",
       "    var nav_element = $('<div/>')\n",
       "    nav_element.attr('style', 'width: 100%');\n",
       "    this.root.append(nav_element);\n",
       "\n",
       "    // Define a callback function for later on.\n",
       "    function toolbar_event(event) {\n",
       "        return fig.toolbar_button_onclick(event['data']);\n",
       "    }\n",
       "    function toolbar_mouse_event(event) {\n",
       "        return fig.toolbar_button_onmouseover(event['data']);\n",
       "    }\n",
       "\n",
       "    for(var toolbar_ind in mpl.toolbar_items) {\n",
       "        var name = mpl.toolbar_items[toolbar_ind][0];\n",
       "        var tooltip = mpl.toolbar_items[toolbar_ind][1];\n",
       "        var image = mpl.toolbar_items[toolbar_ind][2];\n",
       "        var method_name = mpl.toolbar_items[toolbar_ind][3];\n",
       "\n",
       "        if (!name) {\n",
       "            // put a spacer in here.\n",
       "            continue;\n",
       "        }\n",
       "        var button = $('<button/>');\n",
       "        button.addClass('ui-button ui-widget ui-state-default ui-corner-all ' +\n",
       "                        'ui-button-icon-only');\n",
       "        button.attr('role', 'button');\n",
       "        button.attr('aria-disabled', 'false');\n",
       "        button.click(method_name, toolbar_event);\n",
       "        button.mouseover(tooltip, toolbar_mouse_event);\n",
       "\n",
       "        var icon_img = $('<span/>');\n",
       "        icon_img.addClass('ui-button-icon-primary ui-icon');\n",
       "        icon_img.addClass(image);\n",
       "        icon_img.addClass('ui-corner-all');\n",
       "\n",
       "        var tooltip_span = $('<span/>');\n",
       "        tooltip_span.addClass('ui-button-text');\n",
       "        tooltip_span.html(tooltip);\n",
       "\n",
       "        button.append(icon_img);\n",
       "        button.append(tooltip_span);\n",
       "\n",
       "        nav_element.append(button);\n",
       "    }\n",
       "\n",
       "    var fmt_picker_span = $('<span/>');\n",
       "\n",
       "    var fmt_picker = $('<select/>');\n",
       "    fmt_picker.addClass('mpl-toolbar-option ui-widget ui-widget-content');\n",
       "    fmt_picker_span.append(fmt_picker);\n",
       "    nav_element.append(fmt_picker_span);\n",
       "    this.format_dropdown = fmt_picker[0];\n",
       "\n",
       "    for (var ind in mpl.extensions) {\n",
       "        var fmt = mpl.extensions[ind];\n",
       "        var option = $(\n",
       "            '<option/>', {selected: fmt === mpl.default_extension}).html(fmt);\n",
       "        fmt_picker.append(option)\n",
       "    }\n",
       "\n",
       "    // Add hover states to the ui-buttons\n",
       "    $( \".ui-button\" ).hover(\n",
       "        function() { $(this).addClass(\"ui-state-hover\");},\n",
       "        function() { $(this).removeClass(\"ui-state-hover\");}\n",
       "    );\n",
       "\n",
       "    var status_bar = $('<span class=\"mpl-message\"/>');\n",
       "    nav_element.append(status_bar);\n",
       "    this.message = status_bar[0];\n",
       "}\n",
       "\n",
       "mpl.figure.prototype.request_resize = function(x_pixels, y_pixels) {\n",
       "    // Request matplotlib to resize the figure. Matplotlib will then trigger a resize in the client,\n",
       "    // which will in turn request a refresh of the image.\n",
       "    this.send_message('resize', {'width': x_pixels, 'height': y_pixels});\n",
       "}\n",
       "\n",
       "mpl.figure.prototype.send_message = function(type, properties) {\n",
       "    properties['type'] = type;\n",
       "    properties['figure_id'] = this.id;\n",
       "    this.ws.send(JSON.stringify(properties));\n",
       "}\n",
       "\n",
       "mpl.figure.prototype.send_draw_message = function() {\n",
       "    if (!this.waiting) {\n",
       "        this.waiting = true;\n",
       "        this.ws.send(JSON.stringify({type: \"draw\", figure_id: this.id}));\n",
       "    }\n",
       "}\n",
       "\n",
       "\n",
       "mpl.figure.prototype.handle_save = function(fig, msg) {\n",
       "    var format_dropdown = fig.format_dropdown;\n",
       "    var format = format_dropdown.options[format_dropdown.selectedIndex].value;\n",
       "    fig.ondownload(fig, format);\n",
       "}\n",
       "\n",
       "\n",
       "mpl.figure.prototype.handle_resize = function(fig, msg) {\n",
       "    var size = msg['size'];\n",
       "    if (size[0] != fig.canvas.width || size[1] != fig.canvas.height) {\n",
       "        fig._resize_canvas(size[0], size[1]);\n",
       "        fig.send_message(\"refresh\", {});\n",
       "    };\n",
       "}\n",
       "\n",
       "mpl.figure.prototype.handle_rubberband = function(fig, msg) {\n",
       "    var x0 = msg['x0'] / mpl.ratio;\n",
       "    var y0 = (fig.canvas.height - msg['y0']) / mpl.ratio;\n",
       "    var x1 = msg['x1'] / mpl.ratio;\n",
       "    var y1 = (fig.canvas.height - msg['y1']) / mpl.ratio;\n",
       "    x0 = Math.floor(x0) + 0.5;\n",
       "    y0 = Math.floor(y0) + 0.5;\n",
       "    x1 = Math.floor(x1) + 0.5;\n",
       "    y1 = Math.floor(y1) + 0.5;\n",
       "    var min_x = Math.min(x0, x1);\n",
       "    var min_y = Math.min(y0, y1);\n",
       "    var width = Math.abs(x1 - x0);\n",
       "    var height = Math.abs(y1 - y0);\n",
       "\n",
       "    fig.rubberband_context.clearRect(\n",
       "        0, 0, fig.canvas.width, fig.canvas.height);\n",
       "\n",
       "    fig.rubberband_context.strokeRect(min_x, min_y, width, height);\n",
       "}\n",
       "\n",
       "mpl.figure.prototype.handle_figure_label = function(fig, msg) {\n",
       "    // Updates the figure title.\n",
       "    fig.header.textContent = msg['label'];\n",
       "}\n",
       "\n",
       "mpl.figure.prototype.handle_cursor = function(fig, msg) {\n",
       "    var cursor = msg['cursor'];\n",
       "    switch(cursor)\n",
       "    {\n",
       "    case 0:\n",
       "        cursor = 'pointer';\n",
       "        break;\n",
       "    case 1:\n",
       "        cursor = 'default';\n",
       "        break;\n",
       "    case 2:\n",
       "        cursor = 'crosshair';\n",
       "        break;\n",
       "    case 3:\n",
       "        cursor = 'move';\n",
       "        break;\n",
       "    }\n",
       "    fig.rubberband_canvas.style.cursor = cursor;\n",
       "}\n",
       "\n",
       "mpl.figure.prototype.handle_message = function(fig, msg) {\n",
       "    fig.message.textContent = msg['message'];\n",
       "}\n",
       "\n",
       "mpl.figure.prototype.handle_draw = function(fig, msg) {\n",
       "    // Request the server to send over a new figure.\n",
       "    fig.send_draw_message();\n",
       "}\n",
       "\n",
       "mpl.figure.prototype.handle_image_mode = function(fig, msg) {\n",
       "    fig.image_mode = msg['mode'];\n",
       "}\n",
       "\n",
       "mpl.figure.prototype.updated_canvas_event = function() {\n",
       "    // Called whenever the canvas gets updated.\n",
       "    this.send_message(\"ack\", {});\n",
       "}\n",
       "\n",
       "// A function to construct a web socket function for onmessage handling.\n",
       "// Called in the figure constructor.\n",
       "mpl.figure.prototype._make_on_message_function = function(fig) {\n",
       "    return function socket_on_message(evt) {\n",
       "        if (evt.data instanceof Blob) {\n",
       "            /* FIXME: We get \"Resource interpreted as Image but\n",
       "             * transferred with MIME type text/plain:\" errors on\n",
       "             * Chrome.  But how to set the MIME type?  It doesn't seem\n",
       "             * to be part of the websocket stream */\n",
       "            evt.data.type = \"image/png\";\n",
       "\n",
       "            /* Free the memory for the previous frames */\n",
       "            if (fig.imageObj.src) {\n",
       "                (window.URL || window.webkitURL).revokeObjectURL(\n",
       "                    fig.imageObj.src);\n",
       "            }\n",
       "\n",
       "            fig.imageObj.src = (window.URL || window.webkitURL).createObjectURL(\n",
       "                evt.data);\n",
       "            fig.updated_canvas_event();\n",
       "            fig.waiting = false;\n",
       "            return;\n",
       "        }\n",
       "        else if (typeof evt.data === 'string' && evt.data.slice(0, 21) == \"data:image/png;base64\") {\n",
       "            fig.imageObj.src = evt.data;\n",
       "            fig.updated_canvas_event();\n",
       "            fig.waiting = false;\n",
       "            return;\n",
       "        }\n",
       "\n",
       "        var msg = JSON.parse(evt.data);\n",
       "        var msg_type = msg['type'];\n",
       "\n",
       "        // Call the  \"handle_{type}\" callback, which takes\n",
       "        // the figure and JSON message as its only arguments.\n",
       "        try {\n",
       "            var callback = fig[\"handle_\" + msg_type];\n",
       "        } catch (e) {\n",
       "            console.log(\"No handler for the '\" + msg_type + \"' message type: \", msg);\n",
       "            return;\n",
       "        }\n",
       "\n",
       "        if (callback) {\n",
       "            try {\n",
       "                // console.log(\"Handling '\" + msg_type + \"' message: \", msg);\n",
       "                callback(fig, msg);\n",
       "            } catch (e) {\n",
       "                console.log(\"Exception inside the 'handler_\" + msg_type + \"' callback:\", e, e.stack, msg);\n",
       "            }\n",
       "        }\n",
       "    };\n",
       "}\n",
       "\n",
       "// from http://stackoverflow.com/questions/1114465/getting-mouse-location-in-canvas\n",
       "mpl.findpos = function(e) {\n",
       "    //this section is from http://www.quirksmode.org/js/events_properties.html\n",
       "    var targ;\n",
       "    if (!e)\n",
       "        e = window.event;\n",
       "    if (e.target)\n",
       "        targ = e.target;\n",
       "    else if (e.srcElement)\n",
       "        targ = e.srcElement;\n",
       "    if (targ.nodeType == 3) // defeat Safari bug\n",
       "        targ = targ.parentNode;\n",
       "\n",
       "    // jQuery normalizes the pageX and pageY\n",
       "    // pageX,Y are the mouse positions relative to the document\n",
       "    // offset() returns the position of the element relative to the document\n",
       "    var x = e.pageX - $(targ).offset().left;\n",
       "    var y = e.pageY - $(targ).offset().top;\n",
       "\n",
       "    return {\"x\": x, \"y\": y};\n",
       "};\n",
       "\n",
       "/*\n",
       " * return a copy of an object with only non-object keys\n",
       " * we need this to avoid circular references\n",
       " * http://stackoverflow.com/a/24161582/3208463\n",
       " */\n",
       "function simpleKeys (original) {\n",
       "  return Object.keys(original).reduce(function (obj, key) {\n",
       "    if (typeof original[key] !== 'object')\n",
       "        obj[key] = original[key]\n",
       "    return obj;\n",
       "  }, {});\n",
       "}\n",
       "\n",
       "mpl.figure.prototype.mouse_event = function(event, name) {\n",
       "    var canvas_pos = mpl.findpos(event)\n",
       "\n",
       "    if (name === 'button_press')\n",
       "    {\n",
       "        this.canvas.focus();\n",
       "        this.canvas_div.focus();\n",
       "    }\n",
       "\n",
       "    var x = canvas_pos.x * mpl.ratio;\n",
       "    var y = canvas_pos.y * mpl.ratio;\n",
       "\n",
       "    this.send_message(name, {x: x, y: y, button: event.button,\n",
       "                             step: event.step,\n",
       "                             guiEvent: simpleKeys(event)});\n",
       "\n",
       "    /* This prevents the web browser from automatically changing to\n",
       "     * the text insertion cursor when the button is pressed.  We want\n",
       "     * to control all of the cursor setting manually through the\n",
       "     * 'cursor' event from matplotlib */\n",
       "    event.preventDefault();\n",
       "    return false;\n",
       "}\n",
       "\n",
       "mpl.figure.prototype._key_event_extra = function(event, name) {\n",
       "    // Handle any extra behaviour associated with a key event\n",
       "}\n",
       "\n",
       "mpl.figure.prototype.key_event = function(event, name) {\n",
       "\n",
       "    // Prevent repeat events\n",
       "    if (name == 'key_press')\n",
       "    {\n",
       "        if (event.which === this._key)\n",
       "            return;\n",
       "        else\n",
       "            this._key = event.which;\n",
       "    }\n",
       "    if (name == 'key_release')\n",
       "        this._key = null;\n",
       "\n",
       "    var value = '';\n",
       "    if (event.ctrlKey && event.which != 17)\n",
       "        value += \"ctrl+\";\n",
       "    if (event.altKey && event.which != 18)\n",
       "        value += \"alt+\";\n",
       "    if (event.shiftKey && event.which != 16)\n",
       "        value += \"shift+\";\n",
       "\n",
       "    value += 'k';\n",
       "    value += event.which.toString();\n",
       "\n",
       "    this._key_event_extra(event, name);\n",
       "\n",
       "    this.send_message(name, {key: value,\n",
       "                             guiEvent: simpleKeys(event)});\n",
       "    return false;\n",
       "}\n",
       "\n",
       "mpl.figure.prototype.toolbar_button_onclick = function(name) {\n",
       "    if (name == 'download') {\n",
       "        this.handle_save(this, null);\n",
       "    } else {\n",
       "        this.send_message(\"toolbar_button\", {name: name});\n",
       "    }\n",
       "};\n",
       "\n",
       "mpl.figure.prototype.toolbar_button_onmouseover = function(tooltip) {\n",
       "    this.message.textContent = tooltip;\n",
       "};\n",
       "mpl.toolbar_items = [[\"Home\", \"Reset original view\", \"fa fa-home icon-home\", \"home\"], [\"Back\", \"Back to  previous view\", \"fa fa-arrow-left icon-arrow-left\", \"back\"], [\"Forward\", \"Forward to next view\", \"fa fa-arrow-right icon-arrow-right\", \"forward\"], [\"\", \"\", \"\", \"\"], [\"Pan\", \"Pan axes with left mouse, zoom with right\", \"fa fa-arrows icon-move\", \"pan\"], [\"Zoom\", \"Zoom to rectangle\", \"fa fa-square-o icon-check-empty\", \"zoom\"], [\"\", \"\", \"\", \"\"], [\"Download\", \"Download plot\", \"fa fa-floppy-o icon-save\", \"download\"]];\n",
       "\n",
       "mpl.extensions = [\"eps\", \"jpeg\", \"pdf\", \"png\", \"ps\", \"raw\", \"svg\", \"tif\"];\n",
       "\n",
       "mpl.default_extension = \"png\";var comm_websocket_adapter = function(comm) {\n",
       "    // Create a \"websocket\"-like object which calls the given IPython comm\n",
       "    // object with the appropriate methods. Currently this is a non binary\n",
       "    // socket, so there is still some room for performance tuning.\n",
       "    var ws = {};\n",
       "\n",
       "    ws.close = function() {\n",
       "        comm.close()\n",
       "    };\n",
       "    ws.send = function(m) {\n",
       "        //console.log('sending', m);\n",
       "        comm.send(m);\n",
       "    };\n",
       "    // Register the callback with on_msg.\n",
       "    comm.on_msg(function(msg) {\n",
       "        //console.log('receiving', msg['content']['data'], msg);\n",
       "        // Pass the mpl event to the overriden (by mpl) onmessage function.\n",
       "        ws.onmessage(msg['content']['data'])\n",
       "    });\n",
       "    return ws;\n",
       "}\n",
       "\n",
       "mpl.mpl_figure_comm = function(comm, msg) {\n",
       "    // This is the function which gets called when the mpl process\n",
       "    // starts-up an IPython Comm through the \"matplotlib\" channel.\n",
       "\n",
       "    var id = msg.content.data.id;\n",
       "    // Get hold of the div created by the display call when the Comm\n",
       "    // socket was opened in Python.\n",
       "    var element = $(\"#\" + id);\n",
       "    var ws_proxy = comm_websocket_adapter(comm)\n",
       "\n",
       "    function ondownload(figure, format) {\n",
       "        window.open(figure.imageObj.src);\n",
       "    }\n",
       "\n",
       "    var fig = new mpl.figure(id, ws_proxy,\n",
       "                           ondownload,\n",
       "                           element.get(0));\n",
       "\n",
       "    // Call onopen now - mpl needs it, as it is assuming we've passed it a real\n",
       "    // web socket which is closed, not our websocket->open comm proxy.\n",
       "    ws_proxy.onopen();\n",
       "\n",
       "    fig.parent_element = element.get(0);\n",
       "    fig.cell_info = mpl.find_output_cell(\"<div id='\" + id + \"'></div>\");\n",
       "    if (!fig.cell_info) {\n",
       "        console.error(\"Failed to find cell for figure\", id, fig);\n",
       "        return;\n",
       "    }\n",
       "\n",
       "    var output_index = fig.cell_info[2]\n",
       "    var cell = fig.cell_info[0];\n",
       "\n",
       "};\n",
       "\n",
       "mpl.figure.prototype.handle_close = function(fig, msg) {\n",
       "    var width = fig.canvas.width/mpl.ratio\n",
       "    fig.root.unbind('remove')\n",
       "\n",
       "    // Update the output cell to use the data from the current canvas.\n",
       "    fig.push_to_output();\n",
       "    var dataURL = fig.canvas.toDataURL();\n",
       "    // Re-enable the keyboard manager in IPython - without this line, in FF,\n",
       "    // the notebook keyboard shortcuts fail.\n",
       "    IPython.keyboard_manager.enable()\n",
       "    $(fig.parent_element).html('<img src=\"' + dataURL + '\" width=\"' + width + '\">');\n",
       "    fig.close_ws(fig, msg);\n",
       "}\n",
       "\n",
       "mpl.figure.prototype.close_ws = function(fig, msg){\n",
       "    fig.send_message('closing', msg);\n",
       "    // fig.ws.close()\n",
       "}\n",
       "\n",
       "mpl.figure.prototype.push_to_output = function(remove_interactive) {\n",
       "    // Turn the data on the canvas into data in the output cell.\n",
       "    var width = this.canvas.width/mpl.ratio\n",
       "    var dataURL = this.canvas.toDataURL();\n",
       "    this.cell_info[1]['text/html'] = '<img src=\"' + dataURL + '\" width=\"' + width + '\">';\n",
       "}\n",
       "\n",
       "mpl.figure.prototype.updated_canvas_event = function() {\n",
       "    // Tell IPython that the notebook contents must change.\n",
       "    IPython.notebook.set_dirty(true);\n",
       "    this.send_message(\"ack\", {});\n",
       "    var fig = this;\n",
       "    // Wait a second, then push the new image to the DOM so\n",
       "    // that it is saved nicely (might be nice to debounce this).\n",
       "    setTimeout(function () { fig.push_to_output() }, 1000);\n",
       "}\n",
       "\n",
       "mpl.figure.prototype._init_toolbar = function() {\n",
       "    var fig = this;\n",
       "\n",
       "    var nav_element = $('<div/>')\n",
       "    nav_element.attr('style', 'width: 100%');\n",
       "    this.root.append(nav_element);\n",
       "\n",
       "    // Define a callback function for later on.\n",
       "    function toolbar_event(event) {\n",
       "        return fig.toolbar_button_onclick(event['data']);\n",
       "    }\n",
       "    function toolbar_mouse_event(event) {\n",
       "        return fig.toolbar_button_onmouseover(event['data']);\n",
       "    }\n",
       "\n",
       "    for(var toolbar_ind in mpl.toolbar_items){\n",
       "        var name = mpl.toolbar_items[toolbar_ind][0];\n",
       "        var tooltip = mpl.toolbar_items[toolbar_ind][1];\n",
       "        var image = mpl.toolbar_items[toolbar_ind][2];\n",
       "        var method_name = mpl.toolbar_items[toolbar_ind][3];\n",
       "\n",
       "        if (!name) { continue; };\n",
       "\n",
       "        var button = $('<button class=\"btn btn-default\" href=\"#\" title=\"' + name + '\"><i class=\"fa ' + image + ' fa-lg\"></i></button>');\n",
       "        button.click(method_name, toolbar_event);\n",
       "        button.mouseover(tooltip, toolbar_mouse_event);\n",
       "        nav_element.append(button);\n",
       "    }\n",
       "\n",
       "    // Add the status bar.\n",
       "    var status_bar = $('<span class=\"mpl-message\" style=\"text-align:right; float: right;\"/>');\n",
       "    nav_element.append(status_bar);\n",
       "    this.message = status_bar[0];\n",
       "\n",
       "    // Add the close button to the window.\n",
       "    var buttongrp = $('<div class=\"btn-group inline pull-right\"></div>');\n",
       "    var button = $('<button class=\"btn btn-mini btn-primary\" href=\"#\" title=\"Stop Interaction\"><i class=\"fa fa-power-off icon-remove icon-large\"></i></button>');\n",
       "    button.click(function (evt) { fig.handle_close(fig, {}); } );\n",
       "    button.mouseover('Stop Interaction', toolbar_mouse_event);\n",
       "    buttongrp.append(button);\n",
       "    var titlebar = this.root.find($('.ui-dialog-titlebar'));\n",
       "    titlebar.prepend(buttongrp);\n",
       "}\n",
       "\n",
       "mpl.figure.prototype._root_extra_style = function(el){\n",
       "    var fig = this\n",
       "    el.on(\"remove\", function(){\n",
       "\tfig.close_ws(fig, {});\n",
       "    });\n",
       "}\n",
       "\n",
       "mpl.figure.prototype._canvas_extra_style = function(el){\n",
       "    // this is important to make the div 'focusable\n",
       "    el.attr('tabindex', 0)\n",
       "    // reach out to IPython and tell the keyboard manager to turn it's self\n",
       "    // off when our div gets focus\n",
       "\n",
       "    // location in version 3\n",
       "    if (IPython.notebook.keyboard_manager) {\n",
       "        IPython.notebook.keyboard_manager.register_events(el);\n",
       "    }\n",
       "    else {\n",
       "        // location in version 2\n",
       "        IPython.keyboard_manager.register_events(el);\n",
       "    }\n",
       "\n",
       "}\n",
       "\n",
       "mpl.figure.prototype._key_event_extra = function(event, name) {\n",
       "    var manager = IPython.notebook.keyboard_manager;\n",
       "    if (!manager)\n",
       "        manager = IPython.keyboard_manager;\n",
       "\n",
       "    // Check for shift+enter\n",
       "    if (event.shiftKey && event.which == 13) {\n",
       "        this.canvas_div.blur();\n",
       "        event.shiftKey = false;\n",
       "        // Send a \"J\" for go to next cell\n",
       "        event.which = 74;\n",
       "        event.keyCode = 74;\n",
       "        manager.command_mode();\n",
       "        manager.handle_keydown(event);\n",
       "    }\n",
       "}\n",
       "\n",
       "mpl.figure.prototype.handle_save = function(fig, msg) {\n",
       "    fig.ondownload(fig, null);\n",
       "}\n",
       "\n",
       "\n",
       "mpl.find_output_cell = function(html_output) {\n",
       "    // Return the cell and output element which can be found *uniquely* in the notebook.\n",
       "    // Note - this is a bit hacky, but it is done because the \"notebook_saving.Notebook\"\n",
       "    // IPython event is triggered only after the cells have been serialised, which for\n",
       "    // our purposes (turning an active figure into a static one), is too late.\n",
       "    var cells = IPython.notebook.get_cells();\n",
       "    var ncells = cells.length;\n",
       "    for (var i=0; i<ncells; i++) {\n",
       "        var cell = cells[i];\n",
       "        if (cell.cell_type === 'code'){\n",
       "            for (var j=0; j<cell.output_area.outputs.length; j++) {\n",
       "                var data = cell.output_area.outputs[j];\n",
       "                if (data.data) {\n",
       "                    // IPython >= 3 moved mimebundle to data attribute of output\n",
       "                    data = data.data;\n",
       "                }\n",
       "                if (data['text/html'] == html_output) {\n",
       "                    return [cell, data, j];\n",
       "                }\n",
       "            }\n",
       "        }\n",
       "    }\n",
       "}\n",
       "\n",
       "// Register the function which deals with the matplotlib target/channel.\n",
       "// The kernel may be null if the page has been refreshed.\n",
       "if (IPython.notebook.kernel != null) {\n",
       "    IPython.notebook.kernel.comm_manager.register_target('matplotlib', mpl.mpl_figure_comm);\n",
       "}\n"
      ],
      "text/plain": [
       "<IPython.core.display.Javascript object>"
      ]
     },
     "metadata": {},
     "output_type": "display_data"
    },
    {
     "data": {
      "text/html": [
       "<img src=\"data:image/png;base64,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\" width=\"432\">"
      ],
      "text/plain": [
       "<IPython.core.display.HTML object>"
      ]
     },
     "metadata": {},
     "output_type": "display_data"
    }
   ],
   "source": [
    "# inject plotting input agent's ldata:image/png;base64,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oop\n",
    "cycle = 0\n",
    "orig_sense_think_act = agent.sense_think_act\n",
    "def sense_think_act():\n",
    "    global cycle\n",
    "    cycle += 1\n",
    "    orig_sense_think_act()\n",
    "    sensor.append(agent.perception.joint[joint_name])\n",
    "    target.append(agent.target_joints[joint_name])\n",
    "    if cycle % 15 == 0:  # plot every 10 cycles\n",
    "        cla()\n",
    "        plot(target, '-r')\n",
    "        plot(sensor, '-b')\n",
    "        display.clear_output(wait=True)\n",
    "        display.display(gcf())\n",
    "agent.sense_think_act = sense_think_act\n",
    "agent.start()\n",
    "#print(agent.joint_controller.e3)"
   ]
  },
  {
   "cell_type": "code",
   "execution_count": null,
   "metadata": {},
   "outputs": [],
   "source": []
  },
  {
   "cell_type": "code",
   "execution_count": null,
   "metadata": {},
   "outputs": [],
   "source": []
  },
  {
   "cell_type": "code",
   "execution_count": null,
   "metadata": {},
   "outputs": [],
   "source": []
  },
  {
   "cell_type": "code",
   "execution_count": null,
   "metadata": {},
   "outputs": [],
   "source": []
  }
 ],
 "metadata": {
  "kernelspec": {
   "display_name": "Python 2",
   "language": "python",
   "name": "python2"
  },
  "language_info": {
   "codemirror_mode": {
    "name": "ipython",
    "version": 2
   },
   "file_extension": ".py",
   "mimetype": "text/x-python",
   "name": "python",
   "nbconvert_exporter": "python",
   "pygments_lexer": "ipython2",
   "version": "2.7.14"
  },
  "widgets": {
   "state": {
    "08edb2b3512b45d583ce811e915ab3b8": {
     "views": []
    },
    "1423ba9c066040e59b1a1a4f560bdcb9": {
     "views": []
    },
    "193d2569ea214281938e49477bcdc330": {
     "views": [
      {
       "cell": {
        "cell_type": "code",
        "execution_count": 3,
        "metadata": {
         "collapsed": false,
         "trusted": true
        },
        "outputs": [
         {
          "data": {
           "image/png": "iVBORw0KGgoAAAANSUhEUgAAAasAAAEbCAYAAABk26sYAAAABHNCSVQICAgIfAhkiAAAAAlwSFlz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\nsWEAAAAASUVORK5CYII=\n",
           "text/plain": "<matplotlib.figure.Figure at 0x7f667b77c710>"
          },
          "metadata": {},
          "output_type": "display_data"
         }
        ],
        "source": "@interact(kp=(0, 100, 1), ki=(-1, 1, 0.1), kd=(-1, 1, 0.1), delay=(0, 5))\ndef set_pid_parameters(kp, ki, kd, delay=0):\n    global agent\n    agent.joint_controller.Kp = kp\n    agent.joint_controller.Ki = ki\n    agent.joint_controller.Kd = kd\n    agent.joint_controller.set_delay(delay)\n\njoint_name = 'HeadYaw'\nsensor = deque(maxlen=100)\ntarget = deque(maxlen=100)\n\n@interact(name=agent.joint_names)\ndef set_joint_name(name):\n    global joint_name\n    if joint_name != name:\n        joint_name = name\n        sensor.clear()\n        target.clear()\n\n@interact(value=(-1, 1, 0.1))\ndef set_joint_target(value):\n    agent.target_joints[joint_name] = value"
       },
       "cell_index": 4,
       "root": true
      }
     ]
    },
    "1da78f99ccac4ad0a500e03f0de462f2": {
     "views": []
    },
    "2419d2912e4c4f87afc84190bad98a24": {
     "views": []
    },
    "24d5130a37024116a3f31e1cf4f7ba91": {
     "views": []
    },
    "24e43b30d5e94f9695f5b8068c846249": {
     "views": []
    },
    "2b31137b0dc04503b1292fe7e726c259": {
     "views": [
      {
       "cell": {
        "cell_type": "code",
        "execution_count": 3,
        "metadata": {
         "collapsed": false,
         "trusted": true
        },
        "outputs": [
         {
          "data": {
           "image/png": "iVBORw0KGgoAAAANSUhEUgAAAasAAAEbCAYAAABk26sYAAAABHNCSVQICAgIfAhkiAAAAAlwSFlz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\nsWEAAAAASUVORK5CYII=\n",
           "text/plain": "<matplotlib.figure.Figure at 0x7f667b77c710>"
          },
          "metadata": {},
          "output_type": "display_data"
         }
        ],
        "source": "@interact(kp=(0, 100, 1), ki=(-1, 1, 0.1), kd=(-1, 1, 0.1), delay=(0, 5))\ndef set_pid_parameters(kp, ki, kd, delay=0):\n    global agent\n    agent.joint_controller.Kp = kp\n    agent.joint_controller.Ki = ki\n    agent.joint_controller.Kd = kd\n    agent.joint_controller.set_delay(delay)\n\njoint_name = 'HeadYaw'\nsensor = deque(maxlen=100)\ntarget = deque(maxlen=100)\n\n@interact(name=agent.joint_names)\ndef set_joint_name(name):\n    global joint_name\n    if joint_name != name:\n        joint_name = name\n        sensor.clear()\n        target.clear()\n\n@interact(value=(-1, 1, 0.1))\ndef set_joint_target(value):\n    agent.target_joints[joint_name] = value"
       },
       "cell_index": 4,
       "root": true
      }
     ]
    },
    "2b9f319933a64388b028f567bee66fc6": {
     "views": []
    },
    "2cccfd3ec27c417993c321c298ea0905": {
     "views": []
    },
    "2d07583f727a48859d31886d5eacebc0": {
     "views": []
    },
    "2f8e933b32d443549b462891f83be936": {
     "views": []
    },
    "30fa11e67a78439eaf21a543314847f4": {
     "views": []
    },
    "3812304eb2ec442f9b09d9b344a23e29": {
     "views": []
    },
    "428a8160af9a4bbf9d5ac34fe17aae56": {
     "views": []
    },
    "46ae9d6c20854a3281bba172e8eaa7df": {
     "views": [
      {
       "cell": {
        "cell_type": "code",
        "execution_count": 3,
        "metadata": {
         "collapsed": false,
         "trusted": true
        },
        "outputs": [
         {
          "data": {
           "image/png": "iVBORw0KGgoAAAANSUhEUgAAAasAAAEbCAYAAABk26sYAAAABHNCSVQICAgIfAhkiAAAAAlwSFlz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\nsWEAAAAASUVORK5CYII=\n",
           "text/plain": "<matplotlib.figure.Figure at 0x7f667b77c710>"
          },
          "metadata": {},
          "output_type": "display_data"
         }
        ],
        "source": "@interact(kp=(0, 100, 1), ki=(-1, 1, 0.1), kd=(-1, 1, 0.1), delay=(0, 5))\ndef set_pid_parameters(kp, ki, kd, delay=0):\n    global agent\n    agent.joint_controller.Kp = kp\n    agent.joint_controller.Ki = ki\n    agent.joint_controller.Kd = kd\n    agent.joint_controller.set_delay(delay)\n\njoint_name = 'HeadYaw'\nsensor = deque(maxlen=100)\ntarget = deque(maxlen=100)\n\n@interact(name=agent.joint_names)\ndef set_joint_name(name):\n    global joint_name\n    if joint_name != name:\n        joint_name = name\n        sensor.clear()\n        target.clear()\n\n@interact(value=(-1, 1, 0.1))\ndef set_joint_target(value):\n    agent.target_joints[joint_name] = value"
       },
       "cell_index": 4,
       "root": true
      }
     ]
    },
    "4777e46e281d4b0db09b2e15b34ccc15": {
     "views": [
      {
       "cell": {
        "cell_type": "code",
        "execution_count": 3,
        "metadata": {
         "collapsed": false,
         "trusted": true
        },
        "outputs": [
         {
          "data": {
           "image/png": "iVBORw0KGgoAAAANSUhEUgAAAasAAAEbCAYAAABk26sYAAAABHNCSVQICAgIfAhkiAAAAAlwSFlz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\nsWEAAAAASUVORK5CYII=\n",
           "text/plain": "<matplotlib.figure.Figure at 0x7f667b77c710>"
          },
          "metadata": {},
          "output_type": "display_data"
         }
        ],
        "source": "@interact(kp=(0, 100, 1), ki=(-1, 1, 0.1), kd=(-1, 1, 0.1), delay=(0, 5))\ndef set_pid_parameters(kp, ki, kd, delay=0):\n    global agent\n    agent.joint_controller.Kp = kp\n    agent.joint_controller.Ki = ki\n    agent.joint_controller.Kd = kd\n    agent.joint_controller.set_delay(delay)\n\njoint_name = 'HeadYaw'\nsensor = deque(maxlen=100)\ntarget = deque(maxlen=100)\n\n@interact(name=agent.joint_names)\ndef set_joint_name(name):\n    global joint_name\n    if joint_name != name:\n        joint_name = name\n        sensor.clear()\n        target.clear()\n\n@interact(value=(-1, 1, 0.1))\ndef set_joint_target(value):\n    agent.target_joints[joint_name] = value"
       },
       "cell_index": 4,
       "root": true
      }
     ]
    },
    "47ab94252027470fa61ae12d09431df2": {
     "views": []
    },
    "4fd54ea1309d4ecd8b0f231791092e46": {
     "views": []
    },
    "55c9242dbf504841b673f230a59a2ec9": {
     "views": []
    },
    "5719eb44be214e80a359f1f75c67efe0": {
     "views": []
    },
    "57e20d438a754a72a5ca97d2d2feeb7a": {
     "views": []
    },
    "5c4fb0db042044689fe399f3d853be5b": {
     "views": []
    },
    "62596b2d46bb4a1981705b74183eae32": {
     "views": []
    },
    "62cb2f5944e445e5a3f41aac9c4640c5": {
     "views": []
    },
    "71c83a2a0a0e46d1815b5e653f92ceaa": {
     "views": []
    },
    "71fecf5e0585424b98e275f316fb0732": {
     "views": []
    },
    "7a09f83c51b54d2b93b988197ffd8d4f": {
     "views": []
    },
    "8199ee2aaaeb4a50ad4bdad56157a7f6": {
     "views": []
    },
    "8e2d0cd4b04b4e37855ebc376eff0b22": {
     "views": []
    },
    "8f2505989b7f4a8880a5a2a06f9697a3": {
     "views": []
    },
    "904bc4f86e1b4aa6b52fd1eacabdb83f": {
     "views": [
      {
       "cell": {
        "cell_type": "code",
        "execution_count": 3,
        "metadata": {
         "collapsed": false,
         "trusted": true
        },
        "outputs": [
         {
          "data": {
           "image/png": "iVBORw0KGgoAAAANSUhEUgAAAasAAAEbCAYAAABk26sYAAAABHNCSVQICAgIfAhkiAAAAAlwSFlz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\nsWEAAAAASUVORK5CYII=\n",
           "text/plain": "<matplotlib.figure.Figure at 0x7f667b77c710>"
          },
          "metadata": {},
          "output_type": "display_data"
         }
        ],
        "source": "@interact(kp=(0, 100, 1), ki=(-1, 1, 0.1), kd=(-1, 1, 0.1), delay=(0, 5))\ndef set_pid_parameters(kp, ki, kd, delay=0):\n    global agent\n    agent.joint_controller.Kp = kp\n    agent.joint_controller.Ki = ki\n    agent.joint_controller.Kd = kd\n    agent.joint_controller.set_delay(delay)\n\njoint_name = 'HeadYaw'\nsensor = deque(maxlen=100)\ntarget = deque(maxlen=100)\n\n@interact(name=agent.joint_names)\ndef set_joint_name(name):\n    global joint_name\n    if joint_name != name:\n        joint_name = name\n        sensor.clear()\n        target.clear()\n\n@interact(value=(-1, 1, 0.1))\ndef set_joint_target(value):\n    agent.target_joints[joint_name] = value"
       },
       "cell_index": 4,
       "root": true
      }
     ]
    },
    "912637cd00ff4bf49635ec0c62cace3a": {
     "views": []
    },
    "96c5273226db49a29fd0462f75c43c12": {
     "views": []
    },
    "99feba4342ce4e18b166c978bbd2330c": {
     "views": []
    },
    "9ba70e0e0fb74f40a5f5bda804b2bf73": {
     "views": []
    },
    "9c112165712f4930bc1e951a82c9206c": {
     "views": []
    },
    "9f104858cbff4023bce9d45e1c3e249e": {
     "views": []
    },
    "ae2bceece37842639f72493295db48b2": {
     "views": []
    },
    "bcacf127bf964216afa80f16560cb548": {
     "views": []
    },
    "bfe5f8fad9f940fd9bfd5cdf7b9ca0ce": {
     "views": []
    },
    "c4208bcc1cf04031b532bf2b3265052c": {
     "views": []
    },
    "c495cd1960a34bcdb1a125fff3034d4e": {
     "views": []
    },
    "c50ece35211c429cb81aeee5b1382d80": {
     "views": []
    },
    "c63bd69c43d740b19066cfbf3622c051": {
     "views": []
    },
    "cad571b3a8024123962680511618281d": {
     "views": []
    },
    "cb1c499d37f946718520bab5c2870817": {
     "views": []
    },
    "cc45c53f8f704e969d58e18b96edc18e": {
     "views": []
    },
    "d43ef0e5c6af4bbf830cad2fbf2e63bb": {
     "views": []
    },
    "d4c06468277846558e1be51c037a8824": {
     "views": []
    },
    "d725d05c54be4244aede3b24690821f3": {
     "views": []
    },
    "d7365cb8348c4cf7942b816da0e29a05": {
     "views": []
    },
    "d797a6a0497344dfaf0ac0ade5076bca": {
     "views": []
    },
    "e1ac37d6faf240439edd61e61b84bfd8": {
     "views": []
    }
   },
   "version": "1.0.0"
  }
 },
 "nbformat": 4,
 "nbformat_minor": 1
}
